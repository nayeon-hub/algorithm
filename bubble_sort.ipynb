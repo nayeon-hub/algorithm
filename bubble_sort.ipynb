{
  "nbformat": 4,
  "nbformat_minor": 0,
  "metadata": {
    "colab": {
      "name": "bubble sort.ipynb",
      "provenance": [],
      "collapsed_sections": [],
      "authorship_tag": "ABX9TyOOW+xPyJ4KrO0JjwctcEEC",
      "include_colab_link": true
    },
    "kernelspec": {
      "name": "python3",
      "display_name": "Python 3"
    }
  },
  "cells": [
    {
      "cell_type": "markdown",
      "metadata": {
        "id": "view-in-github",
        "colab_type": "text"
      },
      "source": [
        "<a href=\"https://colab.research.google.com/github/nayeon-hub/algorithm/blob/main/bubble_sort.ipynb\" target=\"_parent\"><img src=\"https://colab.research.google.com/assets/colab-badge.svg\" alt=\"Open In Colab\"/></a>"
      ]
    },
    {
      "cell_type": "markdown",
      "metadata": {
        "id": "mUrRDXFqJQoh"
      },
      "source": [
        "###정렬1 : 버블 정렬 (bubble sort)"
      ]
    },
    {
      "cell_type": "markdown",
      "metadata": {
        "id": "gOV_gGOZL5co"
      },
      "source": [
        "###1. 정렬(sorting)\r\n",
        "- 정렬 : 어떤 데이터들이 주어졌을 떄 이를 정해진 순서대로 나열하는 것\r\n",
        "- 정렬은 프로그램 작성시 빈번하게 필요로 함\r\n",
        "- 다양한 알고리즘이 고안되었으며, 알고리즘 학습의 필수\r\n",
        "\r\n",
        "    다양한 정렬 알고리즘 이해를 통해, 동일한 문제에 대해 다양한 알고리즘이 고안될 수 있음을 이해하고, 각 알고리즘 간 성능 비교를 통해, 알고리즘 성능 분석에 대해서도 이해할 수 있음\r\n"
      ]
    },
    {
      "cell_type": "markdown",
      "metadata": {
        "id": "zFJbdaxbM1FU"
      },
      "source": [
        "###2. 버블 정렬 (bubble sort)\r\n",
        "- 두 인접한 데이터를 비교해서, 앞에 있는 데이터가 뒤에 있는 데이터보다 크면, 자리를 바꾸는 정렬 알고리즘"
      ]
    },
    {
      "cell_type": "code",
      "metadata": {
        "id": "FPUqDNSUMmXc"
      },
      "source": [
        "\r\n",
        "def bubble(data):\r\n",
        "    for i in range(n-1):\r\n",
        "        swap = False \r\n",
        "        for j in range(n-i-1):\r\n",
        "            if data[j]>data[j+1]:\r\n",
        "                data[j],data[j+1] = data[j+1],data[j] #python swap\r\n",
        "                swap = True\r\n",
        "        if swap == False:\r\n",
        "            break\r\n",
        "    return data\r\n",
        "\r\n",
        "\r\n",
        "#swap python"
      ],
      "execution_count": 7,
      "outputs": []
    },
    {
      "cell_type": "code",
      "metadata": {
        "colab": {
          "base_uri": "https://localhost:8080/"
        },
        "id": "8HWWGGboMj8J",
        "outputId": "7e9c5964-fe02-4672-dd14-3ad07cd8b6c2"
      },
      "source": [
        "import random\r\n",
        "\r\n",
        "data_list = random.sample(range(100),5)\r\n",
        "bubble(data_list)\r\n"
      ],
      "execution_count": 8,
      "outputs": [
        {
          "output_type": "execute_result",
          "data": {
            "text/plain": [
              "[0, 5, 28, 67, 96]"
            ]
          },
          "metadata": {
            "tags": []
          },
          "execution_count": 8
        }
      ]
    },
    {
      "cell_type": "code",
      "metadata": {
        "id": "67hlJClQ_SYw"
      },
      "source": [
        ""
      ],
      "execution_count": null,
      "outputs": []
    }
  ]
}